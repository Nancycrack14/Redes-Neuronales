{
  "nbformat": 4,
  "nbformat_minor": 0,
  "metadata": {
    "colab": {
      "provenance": [],
      "gpuType": "T4"
    },
    "kernelspec": {
      "name": "python3",
      "display_name": "Python 3"
    },
    "language_info": {
      "name": "python"
    },
    "accelerator": "GPU"
  },
  "cells": [
    {
      "cell_type": "markdown",
      "source": [
        "En esta actividad, se desarrollará un modelo de red neuronal para clasificar los dígitos escritos a mano del conjunto de datos MNIST. El ejercicio incluye entrenar un modelo utilizando imágenes de dígitos, evaluar su desempeño en los conjuntos de entrenamiento y validación, y luego comparar los resultados obtenidos en el conjunto de prueba. Posteriormente, se generarán y preprocesarán 50 imágenes (5 para cada dígito), las cuales se utilizarán para probar el modelo. Se evaluará el rendimiento del modelo en estas nuevas imágenes, comparando las predicciones con los resultados reales. Además, se implementarán tres mejoras o adiciones al sistema actual para optimizar su capacidad predictiva. Finalmente, se creará un sistema que permita la predicción de dígitos en tiempo real utilizando imágenes capturadas por la cámara, con el objetivo de mejorar tanto el modelo como el proceso de preprocesamiento de imágenes."
      ],
      "metadata": {
        "id": "z0QE94cgJjsJ"
      }
    },
    {
      "cell_type": "code",
      "execution_count": 9,
      "metadata": {
        "colab": {
          "base_uri": "https://localhost:8080/"
        },
        "id": "tR60pkV9Z8qv",
        "outputId": "e042ecdf-5ca0-442f-a1d5-17390b2aa583"
      },
      "outputs": [
        {
          "output_type": "stream",
          "name": "stdout",
          "text": [
            "2.18.0\n",
            "4.11.0\n"
          ]
        }
      ],
      "source": [
        "# Basic imports\n",
        "import cv2\n",
        "import numpy as np\n",
        "import matplotlib.pyplot as plt\n",
        "from tensorflow.keras.models import load_model\n",
        "from IPython.display import display, Javascript\n",
        "from google.colab.output import eval_js\n",
        "from base64 import b64decode\n",
        "import numpy as np\n",
        "import matplotlib.pyplot as plt\n",
        "import tensorflow as tf\n",
        "print(f\"{tf.__version__}\")\n",
        "import cv2\n",
        "print(f\"{cv2.__version__}\")"
      ]
    },
    {
      "cell_type": "markdown",
      "source": [
        "En esta parte, cargaré el conjunto de datos MNIST usando TensorFlow. Este conjunto contiene imágenes de dígitos escritos a mano, del 0 al 9, y lo dividiré en dos partes: entrenamiento y prueba. Para que el modelo aprenda mejor, normalizaré las imágenes, es decir, convertiré los valores de los píxeles de 0-255 a un rango de 0 a 1. Luego, mostraré algunas imágenes de ejemplo junto con sus etiquetas para asegurarme de que todo se haya cargado correctamente. También revisaré la cantidad de imágenes en los conjuntos de entrenamiento y prueba, y verificaré que la distribución de los dígitos esté balanceada."
      ],
      "metadata": {
        "id": "aBYccJ0zcCBU"
      }
    },
    {
      "cell_type": "code",
      "source": [
        "# Cargar el conjunto de datos MNIST\n",
        "import numpy as np\n",
        "# Se descarga el dataset y se divide en train y test\n",
        "(x_train, y_train), (x_test, y_test) = tf.keras.datasets.mnist.load_data()\n",
        "\n",
        "# Normalizar los datos (0 o 1)\n",
        "x_train = x_train.astype(\"float32\") / 255.0\n",
        "x_test = x_test.astype(\"float32\") / 255.0\n",
        "\n",
        "# Comprobar la cantidad de imágenes y su tamaño\n",
        "print(\"Tamaño del conjunto de entrenamiento:\", x_train.shape)\n",
        "print(\"Tamaño del conjunto de prueba:\", x_test.shape)\n",
        "\n",
        "# Rango de los valores de pixel\n",
        "print(\"Rango de valores en x_train: mínimo =\", np.min(x_train), \", máximo =\", np.max(x_train))\n",
        "\n",
        "# Se revisa la proporción de las clases\n",
        "import collections\n",
        "train_labels_count = collections.Counter(y_train)\n",
        "print(\"\\nDistribución de clases en el conjunto de entrenamiento:\")\n",
        "for label in sorted(train_labels_count.keys()):\n",
        "    print(f\"Dígito {label}: {train_labels_count[label]} imágenes\")\n",
        "\n",
        "# Se visualizan imagenes de ejemplo del conjunto de entrenamiento ( con distintos numeros )\n",
        "fig, axes = plt.subplots(2, 5, figsize=(10, 5))\n",
        "fig.suptitle(\"Ejemplos del conjunto de entrenamiento\", fontsize=14)\n",
        "for i, ax in enumerate(axes.flat):\n",
        "    ax.imshow(x_train[i], cmap='gray')\n",
        "    ax.set_title(f\"Etiqueta: {y_train[i]}\")\n",
        "    ax.axis('off')\n",
        "plt.tight_layout()\n",
        "plt.show()"
      ],
      "metadata": {
        "colab": {
          "base_uri": "https://localhost:8080/",
          "height": 788
        },
        "id": "mAMzBoDxbbuf",
        "outputId": "5f644d26-770d-48f8-f969-a165efb6b93e"
      },
      "execution_count": 10,
      "outputs": [
        {
          "output_type": "stream",
          "name": "stdout",
          "text": [
            "Downloading data from https://storage.googleapis.com/tensorflow/tf-keras-datasets/mnist.npz\n",
            "\u001b[1m11490434/11490434\u001b[0m \u001b[32m━━━━━━━━━━━━━━━━━━━━\u001b[0m\u001b[37m\u001b[0m \u001b[1m1s\u001b[0m 0us/step\n",
            "Tamaño del conjunto de entrenamiento: (60000, 28, 28)\n",
            "Tamaño del conjunto de prueba: (10000, 28, 28)\n",
            "Rango de valores en x_train: mínimo = 0.0 , máximo = 1.0\n",
            "\n",
            "Distribución de clases en el conjunto de entrenamiento:\n",
            "Dígito 0: 5923 imágenes\n",
            "Dígito 1: 6742 imágenes\n",
            "Dígito 2: 5958 imágenes\n",
            "Dígito 3: 6131 imágenes\n",
            "Dígito 4: 5842 imágenes\n",
            "Dígito 5: 5421 imágenes\n",
            "Dígito 6: 5918 imágenes\n",
            "Dígito 7: 6265 imágenes\n",
            "Dígito 8: 5851 imágenes\n",
            "Dígito 9: 5949 imágenes\n"
          ]
        },
        {
          "output_type": "display_data",
          "data": {
            "text/plain": [
              "<Figure size 1000x500 with 10 Axes>"
            ],
            "image/png": "[encoded data removed]"
          },
          "metadata": {}
        }
      ]
    },
    {
      "cell_type": "markdown",
      "source": [
        "En esta parte, importo los módulos necesarios de Keras para crear y entrenar la red neuronal. Utilizo TensorFlow y las clases específicas de Keras como Sequential, Flatten, Dense y EarlyStopping. Luego, genero la red neuronal utilizando el modelo secuencial de Keras. La primera capa, Flatten, convierte las imágenes de 28x28 píxeles en un vector de 784 valores, lo cual es necesario para que las redes neuronales densas procesen las imágenes correctamente. A continuación, agrego dos capas densas con 128 y 64 neuronas, respectivamente, usando la función de activación ReLU para introducir no linealidad. Finalmente, la capa de salida tiene 10 neuronas, una para cada dígito (0-9), y utiliza la función de activación softmax, que convierte las salidas en probabilidades y es adecuada para problemas de clasificación multiclase."
      ],
      "metadata": {
        "id": "kt4ckV-yLDho"
      }
    },
    {
      "cell_type": "code",
      "source": [
        "# se importan modulos de keras\n",
        "\n",
        "import tensorflow as tf\n",
        "from tensorflow.keras.models import Sequential\n",
        "from tensorflow.keras.layers import Flatten, Dense\n",
        "from tensorflow.keras.callbacks import EarlyStopping\n",
        "\n",
        "# A continuación se genera la Red neuronal\n",
        "model = Sequential()\n",
        "model.add(Flatten(input_shape=(28, 28))) # Aplana todas las imagenes en un vector largo\n",
        "model.add(Dense(128, activation='relu'))\n",
        "model.add(Dense(64, activation='relu'))\n",
        "model.add(Dense(10, activation='softmax'))  # 10 clases, una por dígito"
      ],
      "metadata": {
        "colab": {
          "base_uri": "https://localhost:8080/"
        },
        "id": "B4JU8qmIfHIR",
        "outputId": "e5964e56-4524-4ac2-b057-980b225271a6"
      },
      "execution_count": 11,
      "outputs": [
        {
          "output_type": "stream",
          "name": "stderr",
          "text": [
            "/usr/local/lib/python3.11/dist-packages/keras/src/layers/reshaping/flatten.py:37: UserWarning: Do not pass an `input_shape`/`input_dim` argument to a layer. When using Sequential models, prefer using an `Input(shape)` object as the first layer in the model instead.\n",
            "  super().__init__(**kwargs)\n"
          ]
        }
      ]
    },
    {
      "cell_type": "markdown",
      "source": [
        "Primero, compilo el modelo para prepararlo para el entrenamiento. Uso el optimizador Adam con una tasa de aprendizaje de 0.001, que ayuda a ajustar los pesos del modelo de manera eficiente. La función de pérdida sparse_categorical_crossentropy se usa porque estamos trabajando con un problema de clasificación de varios dígitos (0-9). También configuro la precisión como métrica para saber qué tan bien está funcionando el modelo.\n",
        "\n",
        "Después, agrego EarlyStopping, lo que significa que si el modelo no mejora su rendimiento después de 5 épocas, el entrenamiento se detendrá para evitar el sobreajuste.\n",
        "\n",
        "Luego, entreno el modelo usando los datos de entrenamiento (x_train, y_train). Durante el entrenamiento, el 20% de los datos se usarán para validación, para ver si el modelo está generalizando bien. Se entrena por hasta 50 épocas, pero si el rendimiento no mejora, se detiene antes.\n",
        "\n",
        "Finalmente, uso model.summary() para ver un resumen de la estructura del modelo, es decir, cuántas capas tiene y cuántos parámetros están siendo ajustados.\n",
        "\n"
      ],
      "metadata": {
        "id": "ionrV-PQLUC_"
      }
    },
    {
      "cell_type": "code",
      "source": [
        "# Compilar el modelo\n",
        "opt = tf.keras.optimizers.Adam(learning_rate=0.001)\n",
        "model.compile(optimizer=opt,\n",
        "              loss='sparse_categorical_crossentropy',\n",
        "              metrics=['accuracy'])\n",
        "\n",
        "# Early stopping\n",
        "early_stop = EarlyStopping(monitor='val_accuracy', patience=5, restore_best_weights=True)\n",
        "\n",
        "# Entrenar\n",
        "# Replacing 'train_images' and 'train_labels' with 'x_train' and 'y_train' respectively\n",
        "history = model.fit(x_train, y_train,\n",
        "                    epochs=50,\n",
        "                    validation_split=0.2,\n",
        "                    batch_size=32,\n",
        "                    callbacks=[early_stop])\n",
        "\n",
        "model.summary()"
      ],
      "metadata": {
        "colab": {
          "base_uri": "https://localhost:8080/",
          "height": 807
        },
        "id": "nbtsFjWigS4m",
        "outputId": "518fd8be-c28f-4e36-be8b-e6a3f28d1018"
      },
      "execution_count": 12,
      "outputs": [
        {
          "output_type": "stream",
          "name": "stdout",
          "text": [
            "Epoch 1/50\n",
            "\u001b[1m1500/1500\u001b[0m \u001b[32m━━━━━━━━━━━━━━━━━━━━\u001b[0m\u001b[37m\u001b[0m \u001b[1m7s\u001b[0m 3ms/step - accuracy: 0.8667 - loss: 0.4640 - val_accuracy: 0.9580 - val_loss: 0.1395\n",
            "Epoch 2/50\n",
            "\u001b[1m1500/1500\u001b[0m \u001b[32m━━━━━━━━━━━━━━━━━━━━\u001b[0m\u001b[37m\u001b[0m \u001b[1m4s\u001b[0m 3ms/step - accuracy: 0.9642 - loss: 0.1182 - val_accuracy: 0.9657 - val_loss: 0.1103\n",
            "Epoch 3/50\n",
            "\u001b[1m1500/1500\u001b[0m \u001b[32m━━━━━━━━━━━━━━━━━━━━\u001b[0m\u001b[37m\u001b[0m \u001b[1m5s\u001b[0m 3ms/step - accuracy: 0.9760 - loss: 0.0786 - val_accuracy: 0.9711 - val_loss: 0.0973\n",
            "Epoch 4/50\n",
            "\u001b[1m1500/1500\u001b[0m \u001b[32m━━━━━━━━━━━━━━━━━━━━\u001b[0m\u001b[37m\u001b[0m \u001b[1m4s\u001b[0m 3ms/step - accuracy: 0.9832 - loss: 0.0549 - val_accuracy: 0.9706 - val_loss: 0.1020\n",
            "Epoch 5/50\n",
            "\u001b[1m1500/1500\u001b[0m \u001b[32m━━━━━━━━━━━━━━━━━━━━\u001b[0m\u001b[37m\u001b[0m \u001b[1m6s\u001b[0m 3ms/step - accuracy: 0.9853 - loss: 0.0447 - val_accuracy: 0.9729 - val_loss: 0.0923\n",
            "Epoch 6/50\n",
            "\u001b[1m1500/1500\u001b[0m \u001b[32m━━━━━━━━━━━━━━━━━━━━\u001b[0m\u001b[37m\u001b[0m \u001b[1m4s\u001b[0m 3ms/step - accuracy: 0.9892 - loss: 0.0323 - val_accuracy: 0.9736 - val_loss: 0.0982\n",
            "Epoch 7/50\n",
            "\u001b[1m1500/1500\u001b[0m \u001b[32m━━━━━━━━━━━━━━━━━━━━\u001b[0m\u001b[37m\u001b[0m \u001b[1m5s\u001b[0m 3ms/step - accuracy: 0.9925 - loss: 0.0253 - val_accuracy: 0.9741 - val_loss: 0.1041\n",
            "Epoch 8/50\n",
            "\u001b[1m1500/1500\u001b[0m \u001b[32m━━━━━━━━━━━━━━━━━━━━\u001b[0m\u001b[37m\u001b[0m \u001b[1m5s\u001b[0m 3ms/step - accuracy: 0.9926 - loss: 0.0228 - val_accuracy: 0.9753 - val_loss: 0.1001\n",
            "Epoch 9/50\n",
            "\u001b[1m1500/1500\u001b[0m \u001b[32m━━━━━━━━━━━━━━━━━━━━\u001b[0m\u001b[37m\u001b[0m \u001b[1m5s\u001b[0m 3ms/step - accuracy: 0.9951 - loss: 0.0167 - val_accuracy: 0.9742 - val_loss: 0.1139\n",
            "Epoch 10/50\n",
            "\u001b[1m1500/1500\u001b[0m \u001b[32m━━━━━━━━━━━━━━━━━━━━\u001b[0m\u001b[37m\u001b[0m \u001b[1m5s\u001b[0m 3ms/step - accuracy: 0.9944 - loss: 0.0159 - val_accuracy: 0.9779 - val_loss: 0.0974\n",
            "Epoch 11/50\n",
            "\u001b[1m1500/1500\u001b[0m \u001b[32m━━━━━━━━━━━━━━━━━━━━\u001b[0m\u001b[37m\u001b[0m \u001b[1m5s\u001b[0m 3ms/step - accuracy: 0.9947 - loss: 0.0154 - val_accuracy: 0.9737 - val_loss: 0.1153\n",
            "Epoch 12/50\n",
            "\u001b[1m1500/1500\u001b[0m \u001b[32m━━━━━━━━━━━━━━━━━━━━\u001b[0m\u001b[37m\u001b[0m \u001b[1m5s\u001b[0m 3ms/step - accuracy: 0.9945 - loss: 0.0150 - val_accuracy: 0.9774 - val_loss: 0.1089\n",
            "Epoch 13/50\n",
            "\u001b[1m1500/1500\u001b[0m \u001b[32m━━━━━━━━━━━━━━━━━━━━\u001b[0m\u001b[37m\u001b[0m \u001b[1m5s\u001b[0m 3ms/step - accuracy: 0.9964 - loss: 0.0107 - val_accuracy: 0.9737 - val_loss: 0.1302\n",
            "Epoch 14/50\n",
            "\u001b[1m1500/1500\u001b[0m \u001b[32m━━━━━━━━━━━━━━━━━━━━\u001b[0m\u001b[37m\u001b[0m \u001b[1m5s\u001b[0m 3ms/step - accuracy: 0.9946 - loss: 0.0153 - val_accuracy: 0.9737 - val_loss: 0.1379\n",
            "Epoch 15/50\n",
            "\u001b[1m1500/1500\u001b[0m \u001b[32m━━━━━━━━━━━━━━━━━━━━\u001b[0m\u001b[37m\u001b[0m \u001b[1m4s\u001b[0m 3ms/step - accuracy: 0.9971 - loss: 0.0095 - val_accuracy: 0.9749 - val_loss: 0.1273\n"
          ]
        },
        {
          "output_type": "display_data",
          "data": {
            "text/plain": [
              "\u001b[1mModel: \"sequential\"\u001b[0m\n"
            ],
            "text/html": [
              "<pre style=\"white-space:pre;overflow-x:auto;line-height:normal;font-family:Menlo,'DejaVu Sans Mono',consolas,'Courier New',monospace\"><span style=\"font-weight: bold\">Model: \"sequential\"</span>\n",
              "</pre>\n"
            ]
          },
          "metadata": {}
        },
        {
          "output_type": "display_data",
          "data": {
            "text/plain": [
              "┏━━━━━━━━━━━━━━━━━━━━━━━━━━━━━━━━━┳━━━━━━━━━━━━━━━━━━━━━━━━┳━━━━━━━━━━━━━━━┓\n",
              "┃\u001b[1m \u001b[0m\u001b[1mLayer (type)                   \u001b[0m\u001b[1m \u001b[0m┃\u001b[1m \u001b[0m\u001b[1mOutput Shape          \u001b[0m\u001b[1m \u001b[0m┃\u001b[1m \u001b[0m\u001b[1m      Param #\u001b[0m\u001b[1m \u001b[0m┃\n",
              "┡━━━━━━━━━━━━━━━━━━━━━━━━━━━━━━━━━╇━━━━━━━━━━━━━━━━━━━━━━━━╇━━━━━━━━━━━━━━━┩\n",
              "│ flatten (\u001b[38;5;33mFlatten\u001b[0m)               │ (\u001b[38;5;45mNone\u001b[0m, \u001b[38;5;34m784\u001b[0m)            │             \u001b[38;5;34m0\u001b[0m │\n",
              "├─────────────────────────────────┼────────────────────────┼───────────────┤\n",
              "│ dense (\u001b[38;5;33mDense\u001b[0m)                   │ (\u001b[38;5;45mNone\u001b[0m, \u001b[38;5;34m128\u001b[0m)            │       \u001b[38;5;34m100,480\u001b[0m │\n",
              "├─────────────────────────────────┼────────────────────────┼───────────────┤\n",
              "│ dense_1 (\u001b[38;5;33mDense\u001b[0m)                 │ (\u001b[38;5;45mNone\u001b[0m, \u001b[38;5;34m64\u001b[0m)             │         \u001b[38;5;34m8,256\u001b[0m │\n",
              "├─────────────────────────────────┼────────────────────────┼───────────────┤\n",
              "│ dense_2 (\u001b[38;5;33mDense\u001b[0m)                 │ (\u001b[38;5;45mNone\u001b[0m, \u001b[38;5;34m10\u001b[0m)             │           \u001b[38;5;34m650\u001b[0m │\n",
              "└─────────────────────────────────┴────────────────────────┴───────────────┘\n"
            ],
            "text/html": [
              "<pre style=\"white-space:pre;overflow-x:auto;line-height:normal;font-family:Menlo,'DejaVu Sans Mono',consolas,'Courier New',monospace\">┏━━━━━━━━━━━━━━━━━━━━━━━━━━━━━━━━━┳━━━━━━━━━━━━━━━━━━━━━━━━┳━━━━━━━━━━━━━━━┓\n",
              "┃<span style=\"font-weight: bold\"> Layer (type)                    </span>┃<span style=\"font-weight: bold\"> Output Shape           </span>┃<span style=\"font-weight: bold\">       Param # </span>┃\n",
              "┡━━━━━━━━━━━━━━━━━━━━━━━━━━━━━━━━━╇━━━━━━━━━━━━━━━━━━━━━━━━╇━━━━━━━━━━━━━━━┩\n",
              "│ flatten (<span style=\"color: #0087ff; text-decoration-color: #0087ff\">Flatten</span>)               │ (<span style=\"color: #00d7ff; text-decoration-color: #00d7ff\">None</span>, <span style=\"color: #00af00; text-decoration-color: #00af00\">784</span>)            │             <span style=\"color: #00af00; text-decoration-color: #00af00\">0</span> │\n",
              "├─────────────────────────────────┼────────────────────────┼───────────────┤\n",
              "│ dense (<span style=\"color: #0087ff; text-decoration-color: #0087ff\">Dense</span>)                   │ (<span style=\"color: #00d7ff; text-decoration-color: #00d7ff\">None</span>, <span style=\"color: #00af00; text-decoration-color: #00af00\">128</span>)            │       <span style=\"color: #00af00; text-decoration-color: #00af00\">100,480</span> │\n",
              "├─────────────────────────────────┼────────────────────────┼───────────────┤\n",
              "│ dense_1 (<span style=\"color: #0087ff; text-decoration-color: #0087ff\">Dense</span>)                 │ (<span style=\"color: #00d7ff; text-decoration-color: #00d7ff\">None</span>, <span style=\"color: #00af00; text-decoration-color: #00af00\">64</span>)             │         <span style=\"color: #00af00; text-decoration-color: #00af00\">8,256</span> │\n",
              "├─────────────────────────────────┼────────────────────────┼───────────────┤\n",
              "│ dense_2 (<span style=\"color: #0087ff; text-decoration-color: #0087ff\">Dense</span>)                 │ (<span style=\"color: #00d7ff; text-decoration-color: #00d7ff\">None</span>, <span style=\"color: #00af00; text-decoration-color: #00af00\">10</span>)             │           <span style=\"color: #00af00; text-decoration-color: #00af00\">650</span> │\n",
              "└─────────────────────────────────┴────────────────────────┴───────────────┘\n",
              "</pre>\n"
            ]
          },
          "metadata": {}
        },
        {
          "output_type": "display_data",
          "data": {
            "text/plain": [
              "\u001b[1m Total params: \u001b[0m\u001b[38;5;34m328,160\u001b[0m (1.25 MB)\n"
            ],
            "text/html": [
              "<pre style=\"white-space:pre;overflow-x:auto;line-height:normal;font-family:Menlo,'DejaVu Sans Mono',consolas,'Courier New',monospace\"><span style=\"font-weight: bold\"> Total params: </span><span style=\"color: #00af00; text-decoration-color: #00af00\">328,160</span> (1.25 MB)\n",
              "</pre>\n"
            ]
          },
          "metadata": {}
        },
        {
          "output_type": "display_data",
          "data": {
            "text/plain": [
              "\u001b[1m Trainable params: \u001b[0m\u001b[38;5;34m109,386\u001b[0m (427.29 KB)\n"
            ],
            "text/html": [
              "<pre style=\"white-space:pre;overflow-x:auto;line-height:normal;font-family:Menlo,'DejaVu Sans Mono',consolas,'Courier New',monospace\"><span style=\"font-weight: bold\"> Trainable params: </span><span style=\"color: #00af00; text-decoration-color: #00af00\">109,386</span> (427.29 KB)\n",
              "</pre>\n"
            ]
          },
          "metadata": {}
        },
        {
          "output_type": "display_data",
          "data": {
            "text/plain": [
              "\u001b[1m Non-trainable params: \u001b[0m\u001b[38;5;34m0\u001b[0m (0.00 B)\n"
            ],
            "text/html": [
              "<pre style=\"white-space:pre;overflow-x:auto;line-height:normal;font-family:Menlo,'DejaVu Sans Mono',consolas,'Courier New',monospace\"><span style=\"font-weight: bold\"> Non-trainable params: </span><span style=\"color: #00af00; text-decoration-color: #00af00\">0</span> (0.00 B)\n",
              "</pre>\n"
            ]
          },
          "metadata": {}
        },
        {
          "output_type": "display_data",
          "data": {
            "text/plain": [
              "\u001b[1m Optimizer params: \u001b[0m\u001b[38;5;34m218,774\u001b[0m (854.59 KB)\n"
            ],
            "text/html": [
              "<pre style=\"white-space:pre;overflow-x:auto;line-height:normal;font-family:Menlo,'DejaVu Sans Mono',consolas,'Courier New',monospace\"><span style=\"font-weight: bold\"> Optimizer params: </span><span style=\"color: #00af00; text-decoration-color: #00af00\">218,774</span> (854.59 KB)\n",
              "</pre>\n"
            ]
          },
          "metadata": {}
        }
      ]
    },
    {
      "cell_type": "markdown",
      "source": [
        "En esta parte, visualizo el desempeño del modelo durante el entrenamiento mediante dos gráficas: una para precisión y otra para pérdida. La gráfica de precisión muestra cómo ha mejorado la capacidad del modelo para clasificar correctamente los dígitos en los conjuntos de entrenamiento y validación a lo largo de las épocas. La precisión indica qué tan bien el modelo está prediciendo los dígitos. Por otro lado, la gráfica de pérdida muestra cómo ha cambiado la medida de error del modelo durante el entrenamiento. La pérdida nos dice cuán cerca o lejos están las predicciones del modelo de las respuestas correctas, y el objetivo es que esta disminuya conforme el modelo mejora. Ambas gráficas muestran en el eje x el número de épocas (el número de ciclos de entrenamiento) y en el eje y el valor de precisión o pérdida en cada época. Finalmente, utilizo plt.show() para mostrar estas gráficas y así poder analizar el rendimiento del modelo durante el entrenamiento y su comportamiento en el conjunto de validación.\n",
        "\n"
      ],
      "metadata": {
        "id": "YuPoacb0MaF3"
      }
    },
    {
      "cell_type": "code",
      "source": [
        "# Por ultimo la visualización del modelo\n",
        "# Exactitud\n",
        "plt.plot(history.history['accuracy'], label='Train Accuracy')\n",
        "plt.plot(history.history['val_accuracy'], label='Validation Accuracy')\n",
        "plt.title('Accuracy')\n",
        "plt.xlabel('Epoch')\n",
        "plt.ylabel('Accuracy')\n",
        "plt.legend()\n",
        "plt.show()\n",
        "\n",
        "# Pérdida\n",
        "plt.plot(history.history['loss'], label='Train Loss')\n",
        "plt.plot(history.history['val_loss'], label='Validation Loss')\n",
        "plt.title('Loss')\n",
        "plt.xlabel('Epoch')\n",
        "plt.ylabel('Loss')\n",
        "plt.legend()\n",
        "plt.show()"
      ],
      "metadata": {
        "colab": {
          "base_uri": "https://localhost:8080/",
          "height": 927
        },
        "id": "Vi06VxltgW5b",
        "outputId": "d60dd603-0e70-4504-d0b2-85496af659dd"
      },
      "execution_count": 13,
      "outputs": [
        {
          "output_type": "display_data",
          "data": {
            "text/plain": [
              "<Figure size 640x480 with 1 Axes>"
            ],
            "image/png": "[encoded data removed]"
          },
          "metadata": {}
        },
        {
          "output_type": "display_data",
          "data": {
            "text/plain": [
              "<Figure size 640x480 with 1 Axes>"
            ],
            "image/png": "[encoded data removed]"
          },
          "metadata": {}
        }
      ]
    },
    {
      "cell_type": "markdown",
      "source": [
        "En las gráficas obtenidas, la precisión de entrenamiento sube rápidamente y se estabiliza cerca del 100%, lo que indica que el modelo está aprendiendo bien. La precisión de validación también aumenta, aunque un poco más despacio, y se mantiene cerca del 97%, lo que muestra que el modelo generaliza bien a los datos nuevos. Sin embargo, la pérdida de entrenamiento baja de forma constante, lo que significa que el modelo está mejorando, pero la pérdida de validación tiene algunas fluctuaciones al final, lo que podría ser un indicio de que el modelo empieza a sobreajustarse. A pesar de eso, el modelo sigue funcionando bastante bien sin grandes problemas de sobreajuste."
      ],
      "metadata": {
        "id": "4kJHwOhBZd-D"
      }
    },
    {
      "cell_type": "code",
      "source": [
        "# Guardar el primer modelo\n",
        "model.save(\"modelo1.keras\")"
      ],
      "metadata": {
        "id": "xVynokp1iG6W"
      },
      "execution_count": 14,
      "outputs": []
    },
    {
      "cell_type": "markdown",
      "source": [
        "En esta parte del proyecto, monté mi Google Drive para poder acceder a la carpeta donde tenía guardadas las imágenes escritas a mano. Después, definí la ruta hacia la carpeta \"numeros\" y creé dos listas vacías para almacenar las imágenes procesadas y sus etiquetas correspondientes. Luego, recorrí cada carpeta (de num0 a num9), cargando cada imagen en escala de grises, redimensionándola a 28x28 pixeles, normalizándola entre 0 y 1, y añadiendo una dimensión extra para que el modelo pudiera leerlas correctamente. Finalmente, convertí las listas a arreglos de NumPy y mostré cuántas imágenes y etiquetas se habían cargado en total.\n",
        "\n"
      ],
      "metadata": {
        "id": "NH4XXGtQ6pAV"
      }
    },
    {
      "cell_type": "code",
      "source": [
        "import cv2\n",
        "import numpy as np\n",
        "import os\n",
        "from google.colab import drive\n",
        "\n",
        "# Montar Google Drive\n",
        "drive.mount('/content/drive')\n",
        "\n",
        "ruta_base = '/content/drive/MyDrive/NUM'\n",
        "\n",
        "# Validar ruta base\n",
        "if not os.path.exists(ruta_base):\n",
        "    print(f\"Error: Directory '{ruta_base}' not found. Please verify the path.\")\n",
        "else:\n",
        "    imagenes = []\n",
        "    etiquetas = []\n",
        "\n",
        "\n",
        "    for digito in range(10):\n",
        "        ruta_digito = os.path.join(ruta_base, f'num{digito}')\n",
        "\n",
        "        if not os.path.exists(ruta_digito):\n",
        "            print(f\"Carpeta no encontrada: {ruta_digito}, se omite.\")\n",
        "            continue\n",
        "\n",
        "        for nombre_archivo in os.listdir(ruta_digito):\n",
        "            ruta_imagen = os.path.join(ruta_digito, nombre_archivo)\n",
        "\n",
        "            if not os.path.isfile(ruta_imagen):\n",
        "                print(f\"Archivo no encontrado: {ruta_imagen}, se omite.\")\n",
        "                continue\n",
        "\n",
        "            img = cv2.imread(ruta_imagen, cv2.IMREAD_GRAYSCALE)\n",
        "\n",
        "            if img is None:\n",
        "                print(f\"Error leyendo la imagen {ruta_imagen}, se omite.\")\n",
        "                continue\n",
        "\n",
        "            img = cv2.resize(img, (28, 28))\n",
        "            img = img.astype('float32') / 255.0\n",
        "            img = img.reshape(28, 28, 1)\n",
        "\n",
        "            imagenes.append(img)\n",
        "            etiquetas.append(digito)\n",
        "\n",
        "    # Convertir a numpy después de cargar todo\n",
        "    imagenes = np.array(imagenes)\n",
        "    etiquetas = np.array(etiquetas)\n",
        "\n",
        "    print(\"Total de imágenes cargadas:\", imagenes.shape)\n",
        "    print(\"Total de etiquetas:\", etiquetas.shape)"
      ],
      "metadata": {
        "id": "0G1bDU6l5vlu",
        "colab": {
          "base_uri": "https://localhost:8080/"
        },
        "outputId": "54106db1-d0c2-44ae-c0b9-45714e5e2944"
      },
      "execution_count": 20,
      "outputs": [
        {
          "output_type": "stream",
          "name": "stdout",
          "text": [
            "Drive already mounted at /content/drive; to attempt to forcibly remount, call drive.mount(\"/content/drive\", force_remount=True).\n",
            "Total de imágenes cargadas: (50, 28, 28, 1)\n",
            "Total de etiquetas: (50,)\n"
          ]
        }
      ]
    },
    {
      "cell_type": "markdown",
      "source": [
        "En esta parte del código, hago el procesamiento de las imágenes que capturé previamente. Primero creo dos listas vacías llamadas imagenes y etiquetas. Luego, recorro cada carpeta que corresponde a un número del 0 al 9, y por cada imagen dentro de esas carpetas realizo varios pasos: leo la imagen en escala de grises, elimino el ruido aplicando un filtro de mediana, aumento el contraste, aplico un suavizado gaussiano, binarizo la imagen para resaltar el número, y finalmente redimensiono la imagen a 28x28 pixeles, normalizándola entre 0 y 1. También acomodo la imagen para que tenga una sola dimensión de canal. Cada imagen ya procesada la agrego a la lista imagenes y le asigno su número correcto en la lista etiquetas. Al terminar, convierto las listas en arreglos de NumPy para poder utilizarlos directamente en el modelo."
      ],
      "metadata": {
        "id": "nDBfo7SC8fR3"
      }
    },
    {
      "cell_type": "code",
      "source": [
        "imagenes = []\n",
        "etiquetas = []\n",
        "\n",
        "for digito in range(10):\n",
        "    ruta_digito = os.path.join(ruta_base, f'num{digito}')\n",
        "    for nombre_archivo in os.listdir(ruta_digito):\n",
        "        ruta_imagen = os.path.join(ruta_digito, nombre_archivo)\n",
        "\n",
        "        # Leer la imagen en escala de grises\n",
        "        img = cv2.imread(ruta_imagen, cv2.IMREAD_GRAYSCALE)\n",
        "\n",
        "        # Eliminar ruido aplicando un filtro de mediana\n",
        "        img = cv2.medianBlur(img, 5)\n",
        "\n",
        "        # Aumentar el contraste\n",
        "        alpha = 2.0\n",
        "        beta = 0\n",
        "        img = cv2.convertScaleAbs(img, alpha=alpha, beta=beta)\n",
        "\n",
        "        # Suavizado Gaussiano\n",
        "        img = cv2.GaussianBlur(img, (5, 5), 0)\n",
        "\n",
        "        # Binarización\n",
        "        _, thresh = cv2.threshold(img, 140, 255, cv2.THRESH_BINARY_INV)\n",
        "\n",
        "        # Redimensionar\n",
        "        img_resized = cv2.resize(thresh, (28, 28))\n",
        "\n",
        "        # Normalizar\n",
        "        img_resized = img_resized.astype('float32') / 255.0\n",
        "\n",
        "        # Añadir la dimensión del canal\n",
        "        img_resized = img_resized.reshape(28, 28, 1)\n",
        "\n",
        "        # Guardar\n",
        "        imagenes.append(img_resized)\n",
        "        etiquetas.append(digito)\n",
        "\n",
        "# Y ahora sí conviertes todo a numpy\n",
        "imagenes = np.array(imagenes)\n",
        "etiquetas = np.array(etiquetas)\n",
        "\n",
        "print(\"Total de imágenes cargadas desde 'numeros':\", imagenes.shape)"
      ],
      "metadata": {
        "colab": {
          "base_uri": "https://localhost:8080/"
        },
        "id": "LTR_M13f8wF3",
        "outputId": "878b9260-cac2-4342-f5ad-e7668386cd5d"
      },
      "execution_count": 22,
      "outputs": [
        {
          "output_type": "stream",
          "name": "stdout",
          "text": [
            "Total de imágenes cargadas desde 'numeros': (50, 28, 28, 1)\n"
          ]
        }
      ]
    },
    {
      "cell_type": "markdown",
      "source": [
        "En esta parte del proyecto utilicé el modelo entrenado para hacer predicciones sobre las imágenes procesadas. Primero, generé las predicciones usando el modelo y luego obtuve la clase predicha para cada imagen. Después, comparé las predicciones con las etiquetas reales para ver cuántas coincidían. Al final, calculé el porcentaje de aciertos del modelo y mostré la precisión obtenida, lo cual me permitió evaluar qué tan bien funcionó el modelo reconociendo los dígitos escritos a mano.\n",
        "\n"
      ],
      "metadata": {
        "id": "WsOZ71fz_66g"
      }
    },
    {
      "cell_type": "code",
      "source": [
        "# Hacer las predicciones sobre estas imágenes\n",
        "predicciones = model.predict(imagenes)\n",
        "predicciones_finales = np.argmax(predicciones, axis=1)\n",
        "\n",
        "# Comparar predicciones y mostrar resultados\n",
        "print(\"\\nPredicciones reales vs. predicciones del modelo:\\n\")\n",
        "for real, predicha in zip(etiquetas, predicciones_finales):\n",
        "    print(f\"Real: {real} | Predicho: {predicha}\")\n",
        "\n",
        "# Calcular el porcentaje de aciertos\n",
        "correctas = np.sum(etiquetas == predicciones_finales)\n",
        "total = etiquetas.shape[0]\n",
        "accuracy = correctas / total\n",
        "\n",
        "print(f\"\\nTotal de aciertos: {correctas} de {total}\")\n",
        "print(f\"Precisión (accuracy): {accuracy * 100:.2f}%\")"
      ],
      "metadata": {
        "colab": {
          "base_uri": "https://localhost:8080/"
        },
        "id": "OaI3RmJaASsu",
        "outputId": "854f76f8-0cbb-4d6a-d3a1-33f71db0bafa"
      },
      "execution_count": 23,
      "outputs": [
        {
          "output_type": "stream",
          "name": "stdout",
          "text": [
            "\u001b[1m2/2\u001b[0m \u001b[32m━━━━━━━━━━━━━━━━━━━━\u001b[0m\u001b[37m\u001b[0m \u001b[1m1s\u001b[0m 334ms/step\n",
            "\n",
            "Predicciones reales vs. predicciones del modelo:\n",
            "\n",
            "Real: 0 | Predicho: 0\n",
            "Real: 0 | Predicho: 9\n",
            "Real: 0 | Predicho: 9\n",
            "Real: 0 | Predicho: 0\n",
            "Real: 0 | Predicho: 7\n",
            "Real: 1 | Predicho: 1\n",
            "Real: 1 | Predicho: 1\n",
            "Real: 1 | Predicho: 1\n",
            "Real: 1 | Predicho: 1\n",
            "Real: 1 | Predicho: 1\n",
            "Real: 2 | Predicho: 2\n",
            "Real: 2 | Predicho: 2\n",
            "Real: 2 | Predicho: 2\n",
            "Real: 2 | Predicho: 2\n",
            "Real: 2 | Predicho: 2\n",
            "Real: 3 | Predicho: 3\n",
            "Real: 3 | Predicho: 3\n",
            "Real: 3 | Predicho: 3\n",
            "Real: 3 | Predicho: 3\n",
            "Real: 3 | Predicho: 3\n",
            "Real: 4 | Predicho: 9\n",
            "Real: 4 | Predicho: 4\n",
            "Real: 4 | Predicho: 9\n",
            "Real: 4 | Predicho: 4\n",
            "Real: 4 | Predicho: 9\n",
            "Real: 5 | Predicho: 3\n",
            "Real: 5 | Predicho: 9\n",
            "Real: 5 | Predicho: 3\n",
            "Real: 5 | Predicho: 5\n",
            "Real: 5 | Predicho: 5\n",
            "Real: 6 | Predicho: 4\n",
            "Real: 6 | Predicho: 6\n",
            "Real: 6 | Predicho: 6\n",
            "Real: 6 | Predicho: 6\n",
            "Real: 6 | Predicho: 6\n",
            "Real: 7 | Predicho: 2\n",
            "Real: 7 | Predicho: 3\n",
            "Real: 7 | Predicho: 3\n",
            "Real: 7 | Predicho: 9\n",
            "Real: 7 | Predicho: 9\n",
            "Real: 8 | Predicho: 6\n",
            "Real: 8 | Predicho: 9\n",
            "Real: 8 | Predicho: 6\n",
            "Real: 8 | Predicho: 3\n",
            "Real: 8 | Predicho: 6\n",
            "Real: 9 | Predicho: 9\n",
            "Real: 9 | Predicho: 9\n",
            "Real: 9 | Predicho: 9\n",
            "Real: 9 | Predicho: 9\n",
            "Real: 9 | Predicho: 9\n",
            "\n",
            "Total de aciertos: 30 de 50\n",
            "Precisión (accuracy): 60.00%\n"
          ]
        }
      ]
    },
    {
      "cell_type": "markdown",
      "source": [
        "Por último, las tres mejoras que apliqué en el código fueron, primero, el uso de un filtro de mediana para eliminar el ruido de la imagen, lo que ayuda a mejorar la calidad de la imagen antes de procesarla. Luego, aumenté el contraste de la imagen para hacer que los dígitos fueran más visibles y facilitar su identificación. Finalmente, apliqué un suavizado Gaussiano para suavizar los bordes y reducir cualquier detalle pequeño que pudiera afectar la binarización y la predicción. Estas tres mejoras ayudan a preparar mejor las imágenes y hacer que el modelo reconozca los dígitos con mayor precisión.\n",
        "\n"
      ],
      "metadata": {
        "id": "hoN7-4d6X6tL"
      }
    }
  ]
}